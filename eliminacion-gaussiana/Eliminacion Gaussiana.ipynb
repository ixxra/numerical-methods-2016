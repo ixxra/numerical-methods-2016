{
 "cells": [
  {
   "cell_type": "markdown",
   "metadata": {},
   "source": [
    "# Eliminacion gaussiana\n",
    "\n",
    "**Ejercicio** Implementar el algoritmo de eliminacion gaussiana siguiente\n",
    "\n",
    "![gaussian.png](gaussian.png)"
   ]
  },
  {
   "cell_type": "code",
   "execution_count": 16,
   "metadata": {
    "collapsed": false
   },
   "outputs": [],
   "source": [
    "#First, we create a random matrix for testing purposes\n",
    "import numpy as np\n",
    "\n",
    "A = np.random.random([3,4])\n",
    "n, _ = A.shape #Use _ when you want to discard some value you won't need.\n",
    "\n",
    "\n",
    "T = A.copy()#T is for comparison only (T-est)\n",
    "\n",
    "#Step 1\n",
    "for i in range(n-1):\n",
    "    #Step 2\n",
    "    p = 0\n",
    "    for p in range(i, n):\n",
    "        if A[p, i] != 0:\n",
    "            break\n",
    "    if p == n:\n",
    "        print('No unique solution exists!')\n",
    "    \n",
    "    #Step 3\n",
    "    if p != i:\n",
    "        A[[p,i],:] = A[[i,p], :]\n",
    "    \n",
    "    #Step 4\n",
    "    for j in range(i+1, n):\n",
    "        mji = A[j, i]/A[i, i] #Step 5\n",
    "        A[j,:] = A[j,:] - mji*A[i,:] #Step 6\n",
    "    \n",
    "#Step 7\n",
    "if A[n-1, n-1] == 0:\n",
    "    print ('No unique solution exists!')\n",
    "    \n",
    "#Let's start with backward substitution\n",
    "x = np.zeros([n])\n",
    "\n",
    "x[n - 1] = A[n - 1, n]/A[n - 1, n - 1]\n",
    "for i in range(n - 2, -1, -1):\n",
    "    x[i] = A[i, n] - np.sum(A[i, j]*x[j] for j in range(i + 1, n))\n",
    "    x[i] = x[i]/A[i, i]"
   ]
  },
  {
   "cell_type": "markdown",
   "metadata": {},
   "source": [
    "Comprobamos el algoritmo, utilizando la función `solve` que viene dentro del paquete `numpy.linalg`"
   ]
  },
  {
   "cell_type": "code",
   "execution_count": 17,
   "metadata": {
    "collapsed": false
   },
   "outputs": [
    {
     "data": {
      "text/plain": [
       "array([-0.5581954 , -0.92958464,  1.91668694])"
      ]
     },
     "execution_count": 17,
     "metadata": {},
     "output_type": "execute_result"
    }
   ],
   "source": [
    "x"
   ]
  },
  {
   "cell_type": "code",
   "execution_count": 18,
   "metadata": {
    "collapsed": false
   },
   "outputs": [
    {
     "data": {
      "text/plain": [
       "array([[ 0.09706968,  0.12503283,  0.1264102 ,  0.07187634],\n",
       "       [ 0.        , -0.30775564, -0.03512811,  0.21875533],\n",
       "       [ 0.        ,  0.        , -0.47909351, -0.91827228]])"
      ]
     },
     "execution_count": 18,
     "metadata": {},
     "output_type": "execute_result"
    }
   ],
   "source": [
    "A"
   ]
  },
  {
   "cell_type": "code",
   "execution_count": 19,
   "metadata": {
    "collapsed": false
   },
   "outputs": [
    {
     "data": {
      "text/plain": [
       "array([[ 0.09706968,  0.12503283,  0.1264102 ,  0.07187634],\n",
       "       [ 0.60022548,  0.46537853,  0.74652298,  0.66319902],\n",
       "       [ 0.96470826,  0.88757272,  0.73668432,  0.04842354]])"
      ]
     },
     "execution_count": 19,
     "metadata": {},
     "output_type": "execute_result"
    }
   ],
   "source": [
    "T"
   ]
  },
  {
   "cell_type": "code",
   "execution_count": 20,
   "metadata": {
    "collapsed": false
   },
   "outputs": [
    {
     "data": {
      "text/plain": [
       "array([-0.5581954 , -0.92958464,  1.91668694])"
      ]
     },
     "execution_count": 20,
     "metadata": {},
     "output_type": "execute_result"
    }
   ],
   "source": [
    "np.linalg.solve(T[:,:-1], T[:,-1])"
   ]
  },
  {
   "cell_type": "markdown",
   "metadata": {},
   "source": [
    "Ambas soluciones coinciden, asi que podemos reutilizar nuestro algoritmo definiendo una función"
   ]
  },
  {
   "cell_type": "code",
   "execution_count": 30,
   "metadata": {
    "collapsed": true
   },
   "outputs": [],
   "source": [
    "def solve(equation):\n",
    "    '''\n",
    "    Implements Burden's algorithm 6.1 to solve a linear system with gaussian elimination.\n",
    "    @param equation: An `n x (n + 1)` numpy array representing the system of n equations.\n",
    "    \n",
    "    **Important:** For optimization purposes, the algorithm *will* modify the given array.\n",
    "    \n",
    "    @return: array of solutions of size `n`.\n",
    "    \n",
    "    In case the system can't be solved, it will raise a `LinearAlgebraException`.\n",
    "    '''\n",
    "    A = equation #Remember: python copies by reference objects.\n",
    "    n, _ = A.shape #Use _ when you want to discard some value you won't need.\n",
    "    \n",
    "    #Step 1\n",
    "    for i in range(n-1):\n",
    "        #Step 2\n",
    "        p = 0\n",
    "        for p in range(i, n):\n",
    "            if A[p, i] != 0:\n",
    "                break\n",
    "        if p == n:\n",
    "            raise Exception('No unique solution exists!')\n",
    "\n",
    "        #Step 3\n",
    "        if p != i:\n",
    "            A[[p,i],:] = A[[i,p], :]\n",
    "\n",
    "        #Step 4\n",
    "        for j in range(i+1, n):\n",
    "            mji = A[j, i]/A[i, i] #Step 5\n",
    "            A[j,:] = A[j,:] - mji*A[i,:] #Step 6\n",
    "\n",
    "    #Step 7\n",
    "    if A[n-1, n-1] == 0:\n",
    "        raise Exception('No unique solution exists!')\n",
    "\n",
    "    #Let's start with backward substitution\n",
    "    x = np.zeros([n])\n",
    "\n",
    "    x[n - 1] = A[n - 1, n]/A[n - 1, n - 1]\n",
    "    for i in range(n - 2, -1, -1):\n",
    "        x[i] = A[i, n] - np.sum(A[i, j]*x[j] for j in range(i + 1, n))\n",
    "        x[i] = x[i]/A[i, i]\n",
    "        \n",
    "    return x\n",
    "\n",
    "\n"
   ]
  },
  {
   "cell_type": "markdown",
   "metadata": {},
   "source": [
    "Probamos de nueva cuenta que el algoritmo funciona"
   ]
  },
  {
   "cell_type": "code",
   "execution_count": 31,
   "metadata": {
    "collapsed": false
   },
   "outputs": [
    {
     "name": "stdout",
     "output_type": "stream",
     "text": [
      "[-0.87247649  1.01957359  0.94056444]\n",
      "[-0.87247649  1.01957359  0.94056444]\n"
     ]
    }
   ],
   "source": [
    "A = np.random.random([3,4])\n",
    "n, _ = A.shape #Use _ when you want to discard some value you won't need.\n",
    "\n",
    "T = A.copy()#T is for comparison only (T-est)\n",
    "\n",
    "x1 = solve(A)\n",
    "x2 = np.linalg.solve(T[:,:-1], T[:,-1])\n",
    "\n",
    "print(x1)\n",
    "print(x2)"
   ]
  },
  {
   "cell_type": "markdown",
   "metadata": {},
   "source": [
    "Intentemos pasar un sistema de ceros"
   ]
  },
  {
   "cell_type": "code",
   "execution_count": 32,
   "metadata": {
    "collapsed": false
   },
   "outputs": [
    {
     "name": "stderr",
     "output_type": "stream",
     "text": [
      "/home/isra/opt/anaconda3/lib/python3.5/site-packages/ipykernel/__main__.py:31: RuntimeWarning: invalid value encountered in double_scalars\n"
     ]
    },
    {
     "data": {
      "text/plain": [
       "array([ nan,  nan,  nan])"
      ]
     },
     "execution_count": 32,
     "metadata": {},
     "output_type": "execute_result"
    }
   ],
   "source": [
    "A = np.zeros([3, 4])\n",
    "\n",
    "solve(A)"
   ]
  },
  {
   "cell_type": "code",
   "execution_count": null,
   "metadata": {
    "collapsed": true
   },
   "outputs": [],
   "source": []
  }
 ],
 "metadata": {
  "anaconda-cloud": {},
  "kernelspec": {
   "display_name": "Python [Root]",
   "language": "python",
   "name": "Python [Root]"
  },
  "language_info": {
   "codemirror_mode": {
    "name": "ipython",
    "version": 3
   },
   "file_extension": ".py",
   "mimetype": "text/x-python",
   "name": "python",
   "nbconvert_exporter": "python",
   "pygments_lexer": "ipython3",
   "version": "3.5.2"
  }
 },
 "nbformat": 4,
 "nbformat_minor": 0
}
