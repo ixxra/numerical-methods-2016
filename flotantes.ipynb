{
 "cells": [
  {
   "cell_type": "code",
   "execution_count": 1,
   "metadata": {
    "collapsed": true
   },
   "outputs": [],
   "source": [
    "x = 0b10000000011"
   ]
  },
  {
   "cell_type": "code",
   "execution_count": 2,
   "metadata": {
    "collapsed": false
   },
   "outputs": [
    {
     "data": {
      "text/plain": [
       "1027"
      ]
     },
     "execution_count": 2,
     "metadata": {},
     "output_type": "execute_result"
    }
   ],
   "source": [
    "x"
   ]
  },
  {
   "cell_type": "code",
   "execution_count": 3,
   "metadata": {
    "collapsed": true
   },
   "outputs": [],
   "source": [
    "c = [1,0,0,0,0,0,0,0,0,1,1]"
   ]
  },
  {
   "cell_type": "code",
   "execution_count": 4,
   "metadata": {
    "collapsed": false
   },
   "outputs": [
    {
     "data": {
      "text/plain": [
       "[1, 0, 0, 0, 0, 0, 0, 0, 0, 1, 1]"
      ]
     },
     "execution_count": 4,
     "metadata": {},
     "output_type": "execute_result"
    }
   ],
   "source": [
    "c"
   ]
  },
  {
   "cell_type": "code",
   "execution_count": 5,
   "metadata": {
    "collapsed": true
   },
   "outputs": [
    {
     "data": {
      "text/plain": [
       "1027"
      ]
     },
     "execution_count": 5,
     "metadata": {},
     "output_type": "execute_result"
    }
   ],
   "source": [
    "2**10 + 2 + 1"
   ]
  },
  {
   "cell_type": "code",
   "execution_count": 6,
   "metadata": {
    "collapsed": true
   },
   "outputs": [
    {
     "data": {
      "text/plain": [
       "11"
      ]
     },
     "execution_count": 6,
     "metadata": {},
     "output_type": "execute_result"
    }
   ],
   "source": [
    "len(c)"
   ]
  },
  {
   "cell_type": "code",
   "execution_count": 7,
   "metadata": {
    "collapsed": true
   },
   "outputs": [
    {
     "name": "stdout",
     "output_type": "stream",
     "text": [
      "0 1\n",
      "1 0\n",
      "2 0\n",
      "3 0\n",
      "4 0\n",
      "5 0\n",
      "6 0\n",
      "7 0\n",
      "8 0\n",
      "9 1\n",
      "10 1\n"
     ]
    }
   ],
   "source": [
    "for i in range(11):\n",
    "    print(i, c[i])"
   ]
  },
  {
   "cell_type": "code",
   "execution_count": 8,
   "metadata": {
    "collapsed": false
   },
   "outputs": [
    {
     "data": {
      "text/plain": [
       "1027"
      ]
     },
     "execution_count": 8,
     "metadata": {},
     "output_type": "execute_result"
    }
   ],
   "source": [
    "#Primera forma de convertir arreglos de bits a enteros\n",
    "numero = 0\n",
    "for i in range(11):\n",
    "    numero = numero + c[i]*2**(10 - i)\n",
    "numero"
   ]
  },
  {
   "cell_type": "code",
   "execution_count": 9,
   "metadata": {
    "collapsed": false
   },
   "outputs": [
    {
     "data": {
      "text/plain": [
       "1027"
      ]
     },
     "execution_count": 9,
     "metadata": {},
     "output_type": "execute_result"
    }
   ],
   "source": [
    "#Segunda manera\n",
    "numero = 0\n",
    "for i in range(11):\n",
    "    numero += c[i]*2**(10 - i)\n",
    "numero"
   ]
  },
  {
   "cell_type": "code",
   "execution_count": 13,
   "metadata": {
    "collapsed": false
   },
   "outputs": [
    {
     "data": {
      "text/plain": [
       "1027"
      ]
     },
     "execution_count": 13,
     "metadata": {},
     "output_type": "execute_result"
    }
   ],
   "source": [
    "#Segunda manera, mas simple\n",
    "numero = 0\n",
    "for i, bit in enumerate(c):\n",
    "    if bit != 0:\n",
    "        numero += bit*2**(10 - i)\n",
    "numero"
   ]
  },
  {
   "cell_type": "code",
   "execution_count": 14,
   "metadata": {
    "collapsed": false
   },
   "outputs": [
    {
     "data": {
      "text/plain": [
       "1027"
      ]
     },
     "execution_count": 14,
     "metadata": {},
     "output_type": "execute_result"
    }
   ],
   "source": [
    "#Aun mas simple\n",
    "sum([bit*2**(10 - i) for i, bit in enumerate(c) if bit != 0])"
   ]
  },
  {
   "cell_type": "code",
   "execution_count": 17,
   "metadata": {
    "collapsed": false
   },
   "outputs": [
    {
     "data": {
      "text/plain": [
       "1024"
      ]
     },
     "execution_count": 17,
     "metadata": {},
     "output_type": "execute_result"
    }
   ],
   "source": [
    "2**10"
   ]
  },
  {
   "cell_type": "code",
   "execution_count": 27,
   "metadata": {
    "collapsed": false
   },
   "outputs": [
    {
     "data": {
      "text/plain": [
       "1027"
      ]
     },
     "execution_count": 27,
     "metadata": {},
     "output_type": "execute_result"
    }
   ],
   "source": [
    "(1<<10) | (1<<1) | (1<<0)"
   ]
  },
  {
   "cell_type": "code",
   "execution_count": 33,
   "metadata": {
    "collapsed": false
   },
   "outputs": [
    {
     "data": {
      "text/plain": [
       "True"
      ]
     },
     "execution_count": 33,
     "metadata": {},
     "output_type": "execute_result"
    }
   ],
   "source": [
    "1 != 0"
   ]
  },
  {
   "cell_type": "code",
   "execution_count": 37,
   "metadata": {
    "collapsed": false
   },
   "outputs": [
    {
     "data": {
      "text/plain": [
       "0"
      ]
     },
     "execution_count": 37,
     "metadata": {},
     "output_type": "execute_result"
    }
   ],
   "source": [
    "1^1"
   ]
  },
  {
   "cell_type": "code",
   "execution_count": 41,
   "metadata": {
    "collapsed": false
   },
   "outputs": [
    {
     "data": {
      "text/plain": [
       "1027"
      ]
     },
     "execution_count": 41,
     "metadata": {},
     "output_type": "execute_result"
    }
   ],
   "source": [
    "#Tercera manera, con logica boleana\n",
    "#Primera forma de convertir arreglos de bits a enteros\n",
    "numero = 0\n",
    "for i in range(11):\n",
    "    if c[i] != 0:\n",
    "        numero = numero | c[i]* (1<<(10 - i))\n",
    "numero"
   ]
  },
  {
   "cell_type": "code",
   "execution_count": 43,
   "metadata": {
    "collapsed": false
   },
   "outputs": [
    {
     "data": {
      "text/plain": [
       "1027"
      ]
     },
     "execution_count": 43,
     "metadata": {},
     "output_type": "execute_result"
    }
   ],
   "source": [
    "#Tercera version una sola linea\n",
    "numero = 0\n",
    "for i, bit in enumerate(c):\n",
    "    if bit != 0:\n",
    "        numero = numero | (1<<(10 - i))\n",
    "numero"
   ]
  },
  {
   "cell_type": "code",
   "execution_count": 44,
   "metadata": {
    "collapsed": false
   },
   "outputs": [
    {
     "name": "stdout",
     "output_type": "stream",
     "text": [
      "Tiempo de la tercera version: 0.0003237724304199219s\n"
     ]
    }
   ],
   "source": [
    "#Vamos a medir el tiempo de ejecucion\n",
    "from time import time\n",
    "t0 = time()\n",
    "numero = 0\n",
    "for i, bit in enumerate(c):\n",
    "    if bit != 0:\n",
    "        numero = numero | (1<<(10 - i))\n",
    "t1 = time()\n",
    "print('Tiempo de la tercera version: {0}s'.format(t1 - t0))\n"
   ]
  },
  {
   "cell_type": "code",
   "execution_count": 48,
   "metadata": {
    "collapsed": false
   },
   "outputs": [
    {
     "name": "stdout",
     "output_type": "stream",
     "text": [
      "Tiempo de ejecucion de la segunda version: 0.0003800392150878906s\n"
     ]
    }
   ],
   "source": [
    "t0 = time()\n",
    "#Segunda manera, mas simple\n",
    "numero = 0\n",
    "for i, bit in enumerate(c):\n",
    "    if bit != 0:\n",
    "        numero += bit*2**(10 - i)\n",
    "t1 = time()\n",
    "print('Tiempo de ejecucion de la segunda version: {}s'.format(t1 - t0))"
   ]
  },
  {
   "cell_type": "code",
   "execution_count": 49,
   "metadata": {
    "collapsed": false
   },
   "outputs": [
    {
     "name": "stdout",
     "output_type": "stream",
     "text": [
      "Tiempo de ejecucion, version de 1 sola linea: 0.0003838539123535156s\n"
     ]
    }
   ],
   "source": [
    "t0 = time()\n",
    "numero = sum([bit*2**(10 - i) for i, bit in enumerate(c) if bit != 0])\n",
    "t1 = time()\n",
    "print('Tiempo de ejecucion, version de 1 sola linea: {}s'.format(t1 - t0))"
   ]
  },
  {
   "cell_type": "code",
   "execution_count": 50,
   "metadata": {
    "collapsed": false
   },
   "outputs": [
    {
     "data": {
      "text/plain": [
       "[1, 0, 0, 0, 0, 0, 0, 0, 0, 1, 1]"
      ]
     },
     "execution_count": 50,
     "metadata": {},
     "output_type": "execute_result"
    }
   ],
   "source": [
    "c"
   ]
  },
  {
   "cell_type": "code",
   "execution_count": 55,
   "metadata": {
    "collapsed": false
   },
   "outputs": [
    {
     "name": "stdout",
     "output_type": "stream",
     "text": [
      "Tiempo de ejecucion. Cast de fuerza bruta: 0.00019097328186035156s\n"
     ]
    }
   ],
   "source": [
    "t0 = time()\n",
    "numero = int(''.join(map(str, c)), 2)\n",
    "t1 = time()\n",
    "print('Tiempo de ejecucion. Cast de fuerza bruta: {}s'.format(t1 - t0))"
   ]
  },
  {
   "cell_type": "code",
   "execution_count": 56,
   "metadata": {
    "collapsed": true
   },
   "outputs": [],
   "source": [
    "import numpy as np\n",
    "\n"
   ]
  },
  {
   "cell_type": "code",
   "execution_count": 63,
   "metadata": {
    "collapsed": false
   },
   "outputs": [
    {
     "data": {
      "text/plain": [
       "array([[0, 1, 0, 1, 1, 0, 0, 1, 0, 1, 1],\n",
       "       [1, 1, 0, 1, 0, 1, 0, 0, 0, 0, 0],\n",
       "       [0, 0, 0, 0, 0, 1, 1, 1, 0, 1, 1]])"
      ]
     },
     "execution_count": 63,
     "metadata": {},
     "output_type": "execute_result"
    }
   ],
   "source": [
    "T = np.random.randint(0, 2, (30,11))\n"
   ]
  },
  {
   "cell_type": "code",
   "execution_count": 65,
   "metadata": {
    "collapsed": false
   },
   "outputs": [
    {
     "name": "stdout",
     "output_type": "stream",
     "text": [
      "Elapsed time: 0.003953695297241211s\n"
     ]
    }
   ],
   "source": [
    "t0 = time()\n",
    "for t in T:\n",
    "    numero = int(''.join(map(str, t)), 2)\n",
    "t1 = time()\n",
    "print('Elapsed time: {}s'.format(t1 - t0))"
   ]
  },
  {
   "cell_type": "code",
   "execution_count": 66,
   "metadata": {
    "collapsed": false
   },
   "outputs": [
    {
     "name": "stdout",
     "output_type": "stream",
     "text": [
      "Elapsed time: 0.0016331672668457031s\n"
     ]
    }
   ],
   "source": [
    "t0 = time()\n",
    "for t in T:\n",
    "    numero = 0\n",
    "    for i, bit in enumerate(c):\n",
    "        if bit != 0:\n",
    "            numero += bit*2**(10 - i)\n",
    "t1 = time()\n",
    "print('Elapsed time: {}s'.format(t1 - t0))"
   ]
  },
  {
   "cell_type": "code",
   "execution_count": 67,
   "metadata": {
    "collapsed": false
   },
   "outputs": [
    {
     "name": "stdout",
     "output_type": "stream",
     "text": [
      "Elapsed time: 0.00046944618225097656s\n"
     ]
    }
   ],
   "source": [
    "t0 = time()\n",
    "for t in T:\n",
    "    numero = 0\n",
    "    for i, bit in enumerate(c):\n",
    "        if bit != 0:\n",
    "            numero = numero | (1<<(10 - i))\n",
    "t1 = time()\n",
    "print('Elapsed time: {}s'.format(t1 - t0))"
   ]
  },
  {
   "cell_type": "code",
   "execution_count": 72,
   "metadata": {
    "collapsed": false
   },
   "outputs": [
    {
     "name": "stdout",
     "output_type": "stream",
     "text": [
      "Elapsed time, casting to string:    93.00288605690002s\n",
      "Elapsed time, integer arithmetic:   9.853490591049194s\n",
      "Elapsed time, raw bit manipulation: 7.500776529312134s\n"
     ]
    }
   ],
   "source": [
    "T = np.random.randint(0, 2, (3000000,11))\n",
    "t0 = time()\n",
    "for t in T:\n",
    "    numero = int(''.join(map(str, t)), 2)\n",
    "t1 = time()\n",
    "print('Elapsed time, casting to string:    {}s'.format(t1 - t0))\n",
    "\n",
    "t0 = time()\n",
    "for t in T:\n",
    "    numero = 0\n",
    "    for i, bit in enumerate(c):\n",
    "        if bit != 0:\n",
    "            numero += bit*2**(10 - i)\n",
    "t1 = time()\n",
    "print('Elapsed time, integer arithmetic:   {}s'.format(t1 - t0))\n",
    "\n",
    "t0 = time()\n",
    "for t in T:\n",
    "    numero = 0\n",
    "    for i, bit in enumerate(c):\n",
    "        if bit != 0:\n",
    "            numero = numero | (1<<(10 - i))\n",
    "t1 = time()\n",
    "print('Elapsed time, raw bit manipulation: {}s'.format(t1 - t0))"
   ]
  },
  {
   "cell_type": "code",
   "execution_count": null,
   "metadata": {
    "collapsed": true
   },
   "outputs": [],
   "source": []
  }
 ],
 "metadata": {
  "kernelspec": {
   "display_name": "Python [Root]",
   "language": "python",
   "name": "Python [Root]"
  },
  "language_info": {
   "codemirror_mode": {
    "name": "ipython",
    "version": 3
   },
   "file_extension": ".py",
   "mimetype": "text/x-python",
   "name": "python",
   "nbconvert_exporter": "python",
   "pygments_lexer": "ipython3",
   "version": "3.5.2"
  }
 },
 "nbformat": 4,
 "nbformat_minor": 0
}
